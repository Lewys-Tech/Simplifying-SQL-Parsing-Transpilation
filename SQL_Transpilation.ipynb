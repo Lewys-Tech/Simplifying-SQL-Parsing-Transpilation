{
  "nbformat": 4,
  "nbformat_minor": 0,
  "metadata": {
    "colab": {
      "provenance": [],
      "authorship_tag": "ABX9TyMM3dAFvRbj+SbUJAPHkRlM",
      "include_colab_link": true
    },
    "kernelspec": {
      "name": "python3",
      "display_name": "Python 3"
    },
    "language_info": {
      "name": "python"
    }
  },
  "cells": [
    {
      "cell_type": "markdown",
      "metadata": {
        "id": "view-in-github",
        "colab_type": "text"
      },
      "source": [
        "<a href=\"https://colab.research.google.com/github/Lewys-Tech/Simplifying-SQL-Parsing-Transpilation/blob/main/SQL_Transpilation.ipynb\" target=\"_parent\"><img src=\"https://colab.research.google.com/assets/colab-badge.svg\" alt=\"Open In Colab\"/></a>"
      ]
    },
    {
      "cell_type": "code",
      "execution_count": 6,
      "metadata": {
        "colab": {
          "base_uri": "https://localhost:8080/"
        },
        "id": "fZflEZPNMCyr",
        "outputId": "ef6736fc-1636-4dae-bb1c-8b49a813d5c7"
      },
      "outputs": [
        {
          "output_type": "stream",
          "name": "stdout",
          "text": [
            "Requirement already satisfied: sqlglot in /usr/local/lib/python3.11/dist-packages (25.20.2)\n"
          ]
        }
      ],
      "source": [
        "!pip install sqlglot"
      ]
    },
    {
      "cell_type": "code",
      "source": [
        "mysql_query = \"\"\"\n",
        "SELECT IFNULL(employee_name, 'Unknown') AS employee_status\n",
        "FROM employees;\n",
        "\"\"\""
      ],
      "metadata": {
        "id": "7RoXPS86NbYR"
      },
      "execution_count": 8,
      "outputs": []
    },
    {
      "cell_type": "code",
      "source": [
        "import sqlglot\n",
        "\n",
        "\n",
        "# Transpile the MySQL query to Spark SQL dialect\n",
        "spark_sql_query = sqlglot.transpile(mysql_query, read=\"mysql\", write=\"spark\")[0]\n",
        "\n",
        "print(spark_sql_query)"
      ],
      "metadata": {
        "colab": {
          "base_uri": "https://localhost:8080/"
        },
        "id": "RR-rLSEMMuC6",
        "outputId": "3daf74e8-6812-4f9f-aa32-f70bfc7553fb"
      },
      "execution_count": 9,
      "outputs": [
        {
          "output_type": "stream",
          "name": "stdout",
          "text": [
            "SELECT COALESCE(employee_name, 'Unknown') AS employee_status FROM employees\n"
          ]
        }
      ]
    }
  ]
}